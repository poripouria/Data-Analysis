{
 "cells": [
  {
   "cell_type": "markdown",
   "metadata": {},
   "source": [
    "**Import libraries**"
   ]
  },
  {
   "cell_type": "code",
   "execution_count": 91,
   "metadata": {},
   "outputs": [],
   "source": [
    "\"\"\"\n",
    "Neural Networks (Dr. Shakeri)\n",
    "Project 1 (TA):\n",
    "    - Implementing Perceptron\n",
    "Student Name and ID: Pouria Alimoradpor 9912035\n",
    "\"\"\"\n",
    "\n",
    "import numpy as np\n",
    "import matplotlib.pyplot as plt\n",
    "from sklearn.datasets import make_blobs"
   ]
  },
  {
   "cell_type": "markdown",
   "metadata": {},
   "source": [
    "1. Using make_blobs from sklearn.datasets to generate random data points which is linearly separable.\n",
    "Each column of X represents a feature and each row represents a data point. y is the label of each data point."
   ]
  },
  {
   "cell_type": "code",
   "execution_count": 92,
   "metadata": {},
   "outputs": [
    {
     "name": "stdout",
     "output_type": "stream",
     "text": [
      "(100, 10) (100,)\n"
     ]
    }
   ],
   "source": [
    "X, Y = make_blobs(n_samples=100, n_features=10, centers=2, random_state=41)\n",
    "\n",
    "print(X.shape, Y.shape)"
   ]
  },
  {
   "cell_type": "markdown",
   "metadata": {},
   "source": [
    "2. Define class F which methods of this class belong to the class and must be defined statically."
   ]
  },
  {
   "cell_type": "code",
   "execution_count": 93,
   "metadata": {},
   "outputs": [],
   "source": [
    "class F:\n",
    "    @staticmethod\n",
    "    def sign(x):\n",
    "        # Implement the sign activation function\n",
    "        return +1 if x >= 0 else -1\n",
    "    \n",
    "    @staticmethod\n",
    "    def step(x):\n",
    "        # Implement the step activation function\n",
    "        return 1 if x >= 0 else 0\n",
    "    \n",
    "    @staticmethod\n",
    "    def sigmoid(x):\n",
    "        # Implement the sigmoid activation function\n",
    "        return 1 / (1 + np.exp(-x))\n",
    "    \n",
    "    @staticmethod\n",
    "    def tanh(x):\n",
    "        # Implement the tanh activation function\n",
    "        return (np.exp(x) - np.exp(-x)) / (np.exp(x) + np.exp(-x))\n",
    "    \n",
    "    @staticmethod\n",
    "    def relu(x):\n",
    "        # Implement the relu activation function\n",
    "        return max(0, x)\n",
    "    \n",
    "    @staticmethod\n",
    "    def leaky_relu(x, alpha=0.01):\n",
    "        # Implement the leaky relu activation function\n",
    "        return max(alpha * x, x)\n",
    "    \n",
    "    @staticmethod\n",
    "    def elu(x, alpha=0.01):\n",
    "        # Implement the elu activation function\n",
    "        return x if x > 0 else alpha * (np.exp(x) - 1)\n",
    "    \n",
    "    @staticmethod\n",
    "    def softplus(x):\n",
    "        # Implement the softplus activation function\n",
    "        return np.log(1 + np.exp(x))\n",
    "    \n",
    "    @staticmethod\n",
    "    def softmax(x):\n",
    "        # Implement the softmax activation function\n",
    "        return np.exp(x) / np.sum(np.exp(x))\n",
    "    \n",
    "    @staticmethod\n",
    "    def linear(x):\n",
    "        # Implement the linear activation function\n",
    "        return x"
   ]
  },
  {
   "cell_type": "markdown",
   "metadata": {},
   "source": [
    "3. Define class Perceptron which is a simple linear classifier. It contains Waights and Bias. The output will be calculated by the dot product of the input and the weights plus the bias in forward function."
   ]
  },
  {
   "cell_type": "code",
   "execution_count": 94,
   "metadata": {},
   "outputs": [],
   "source": [
    "class Perceptron:\n",
    "    def __init__(self, input_size, neurons_size=1, activation=F.sign):\n",
    "        # Initialize the weights and biases of the new model\n",
    "        self.W = np.random.rand(neurons_size, input_size)\n",
    "        self.b = np.random.rand(neurons_size, 1)\n",
    "        self.activation = activation\n",
    "    \n",
    "    def forward(self, input):\n",
    "        # Feed input features to your model and return output\n",
    "        self.inputs = input\n",
    "        self.output = self.activation(np.dot(self.W, input) + self.b)\n",
    "        return self.output"
   ]
  },
  {
   "cell_type": "markdown",
   "metadata": {},
   "source": [
    "4. Define class Optimizer which should optimize the weights and bias of the Perceptron. "
   ]
  },
  {
   "cell_type": "code",
   "execution_count": 95,
   "metadata": {},
   "outputs": [],
   "source": [
    "class Optimizer:\n",
    "    def __init__(self, model):\n",
    "        # Initialize the optimizer with the model\n",
    "        self.model = model\n",
    "\n",
    "    def update(self, x, y, y_hat):\n",
    "        # Update weight and bias of the model\n",
    "        self.model.W += (y - y_hat) * x\n",
    "        self.model.b += (y - y_hat)"
   ]
  },
  {
   "cell_type": "markdown",
   "metadata": {},
   "source": [
    "5. Define model object which is instance of Perceptron class. (parameters are initialized by part 1.)\n",
    "6. Define optimizer object which is instance of Optimizer class and let it optimize the model."
   ]
  },
  {
   "cell_type": "code",
   "execution_count": 96,
   "metadata": {},
   "outputs": [],
   "source": [
    "model = Perceptron(X.shape[1])\n",
    "optimizer = Optimizer(model)\n",
    "\n",
    "n_iter = 1000\n",
    "for _ in range(n_iter):\n",
    "    for x, y in zip(X, Y):\n",
    "        y_hat = model.forward(x)\n",
    "        optimizer.update(x, y, y_hat)"
   ]
  },
  {
   "cell_type": "markdown",
   "metadata": {},
   "source": [
    "7. Use above functions for 2_featured dataset and plot the decision boundary."
   ]
  },
  {
   "cell_type": "code",
   "execution_count": 97,
   "metadata": {},
   "outputs": [],
   "source": [
    "X, Y = make_blobs(n_samples=100, n_features=2, centers=2, random_state=41)\n",
    "\n",
    "model = Perceptron(X.shape[1])\n",
    "optimizer = Optimizer(model)\n",
    "n_iter = 1000\n",
    "for _ in range(n_iter):\n",
    "    for x, y in zip(X, Y):\n",
    "        y_hat = model.forward(x)\n",
    "        optimizer.update(x, y, y_hat)"
   ]
  },
  {
   "cell_type": "code",
   "execution_count": 102,
   "metadata": {},
   "outputs": [
    {
     "data": {
      "image/png": "[encoded data removed]",
      "text/plain": [
       "<Figure size 640x480 with 1 Axes>"
      ]
     },
     "metadata": {},
     "output_type": "display_data"
    }
   ],
   "source": [
    "x1 = np.linspace(X[:, 0].min()-1, X[:, 0].max()+1, 100)\n",
    "x2 = np.linspace(X[:, 1].min()-1, X[:, 1].max()+1, 100)\n",
    "X1, X2 = np.meshgrid(x1, x2)\n",
    "Z = np.zeros(X1.shape)\n",
    "for i in range(X1.shape[0]):\n",
    "    for j in range(X1.shape[1]):\n",
    "        Z[i, j] = model.forward([X1[i, j], X2[i, j]])\n",
    "plt.contourf(X1, X2, Z, alpha=0.4)\n",
    "plt.scatter(X[:, 0], X[:, 1], c=Y)\n",
    "plt.show()"
   ]
  }
 ],
 "metadata": {
  "kernelspec": {
   "display_name": "base",
   "language": "python",
   "name": "python3"
  },
  "language_info": {
   "codemirror_mode": {
    "name": "ipython",
    "version": 3
   },
   "file_extension": ".py",
   "mimetype": "text/x-python",
   "name": "python",
   "nbconvert_exporter": "python",
   "pygments_lexer": "ipython3",
   "version": "3.12.1"
  }
 },
 "nbformat": 4,
 "nbformat_minor": 2
}
