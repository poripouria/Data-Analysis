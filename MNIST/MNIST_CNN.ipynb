{
  "cells": [
    {
      "attachments": {},
      "cell_type": "markdown",
      "metadata": {},
      "source": [
        "**Import Libraries**"
      ]
    },
    {
      "cell_type": "code",
      "execution_count": 2,
      "metadata": {},
      "outputs": [
        {
          "data": {
            "text/plain": [
              "'\\nDescription:\\n    Final Project (1)\\n    \"Digit recognition using convolutional neural networks (CNN) in MNIST dataset\"\\n    Project for Amirkabir University of Technilogy (Tehran Polytechnic)\\n    Computer Scince department\\n    Computer Graphics (Image Processing) Course - Dr. Shamsi\\n\\nStudent Name & ID: Pouria Alimoradpor 9912035\\n'"
            ]
          },
          "execution_count": 2,
          "metadata": {},
          "output_type": "execute_result"
        }
      ],
      "source": [
        "\"\"\"\n",
        "Description:\n",
        "    Final Project (1)\n",
        "    \"Digit recognition using convolutional neural networks (CNN) in MNIST dataset\"\n",
        "    Project for Amirkabir University of Technilogy (Tehran Polytechnic)\n",
        "    Computer Scince department\n",
        "    Computer Graphics (Image Processing) Course - Dr. Shamsi\n",
        "\n",
        "Student Name & ID: Pouria Alimoradpor 9912035\n",
        "\"\"\""
      ]
    },
    {
      "cell_type": "code",
      "execution_count": 3,
      "metadata": {
        "id": "R_CjXAmMNW8i"
      },
      "outputs": [
        {
          "name": "stdout",
          "output_type": "stream",
          "text": [
            "WARNING:tensorflow:From c:\\Users\\porip\\anaconda3\\Lib\\site-packages\\keras\\src\\losses.py:2976: The name tf.losses.sparse_softmax_cross_entropy is deprecated. Please use tf.compat.v1.losses.sparse_softmax_cross_entropy instead.\n",
            "\n"
          ]
        }
      ],
      "source": [
        "from tensorflow import keras\n",
        "from keras.datasets import mnist\n",
        "from keras.models import Sequential\n",
        "from keras.layers import Dense, Dropout, Flatten, Conv2D, MaxPooling2D\n",
        "from keras.utils import to_categorical"
      ]
    },
    {
      "attachments": {},
      "cell_type": "markdown",
      "metadata": {},
      "source": [
        "**Load and Preprocess Data**"
      ]
    },
    {
      "cell_type": "code",
      "execution_count": 4,
      "metadata": {
        "colab": {
          "base_uri": "https://localhost:8080/"
        },
        "id": "Mg99db5hZrPJ",
        "outputId": "63ea292a-b22d-45ea-eb95-810d1a2a45b8"
      },
      "outputs": [
        {
          "name": "stdout",
          "output_type": "stream",
          "text": [
            "X_train shape:  (60000, 28, 28, 1)\n",
            "X_test shape:  (10000, 28, 28, 1)\n",
            "y_train shape:  (60000, 10)\n",
            "y_test shape:  (10000, 10)\n"
          ]
        }
      ],
      "source": [
        "# Load the data (MNIST dataset)\n",
        "(X_train, y_train), (X_test, y_test) = mnist.load_data()\n",
        "# Reshape and Normalize the data\n",
        "X_train = X_train.reshape(X_train.shape[0], 28, 28, 1) / 255.0\n",
        "X_test = X_test.reshape(X_test.shape[0], 28, 28, 1) / 255.0\n",
        "# Convert the labels to categorical\n",
        "y_train = to_categorical(y_train)\n",
        "y_test = to_categorical(y_test)\n",
        "# Show the shape of the data\n",
        "print('X_train shape: ', X_train.shape)\n",
        "print('X_test shape: ', X_test.shape)\n",
        "print('y_train shape: ', y_train.shape)\n",
        "print('y_test shape: ', y_test.shape)"
      ]
    },
    {
      "attachments": {},
      "cell_type": "markdown",
      "metadata": {},
      "source": [
        "**CNN**"
      ]
    },
    {
      "cell_type": "code",
      "execution_count": 5,
      "metadata": {
        "id": "Oy-iy4LnjFnS"
      },
      "outputs": [
        {
          "name": "stdout",
          "output_type": "stream",
          "text": [
            "WARNING:tensorflow:From c:\\Users\\porip\\anaconda3\\Lib\\site-packages\\keras\\src\\backend.py:873: The name tf.get_default_graph is deprecated. Please use tf.compat.v1.get_default_graph instead.\n",
            "\n",
            "WARNING:tensorflow:From c:\\Users\\porip\\anaconda3\\Lib\\site-packages\\keras\\src\\layers\\pooling\\max_pooling2d.py:161: The name tf.nn.max_pool is deprecated. Please use tf.nn.max_pool2d instead.\n",
            "\n"
          ]
        }
      ],
      "source": [
        "# Define the CNN model (Network Architecture Design)\n",
        "model = Sequential()\n",
        "model.add(Conv2D(32, (3, 3), activation='relu', input_shape=(28, 28, 1)))\n",
        "model.add(MaxPooling2D((2, 2)))\n",
        "model.add(Flatten())\n",
        "model.add(Dense(128, activation='relu'))\n",
        "model.add(Dense(10, activation='softmax'))"
      ]
    },
    {
      "cell_type": "code",
      "execution_count": 6,
      "metadata": {
        "colab": {
          "base_uri": "https://localhost:8080/"
        },
        "id": "tWFAbiOZj7_2",
        "outputId": "640c1eb4-9946-48a8-c046-1f04cea34f8a"
      },
      "outputs": [
        {
          "name": "stdout",
          "output_type": "stream",
          "text": [
            "Model: \"sequential\"\n",
            "_________________________________________________________________\n",
            " Layer (type)                Output Shape              Param #   \n",
            "=================================================================\n",
            " conv2d (Conv2D)             (None, 26, 26, 32)        320       \n",
            "                                                                 \n",
            " max_pooling2d (MaxPooling2  (None, 13, 13, 32)        0         \n",
            " D)                                                              \n",
            "                                                                 \n",
            " flatten (Flatten)           (None, 5408)              0         \n",
            "                                                                 \n",
            " dense (Dense)               (None, 128)               692352    \n",
            "                                                                 \n",
            " dense_1 (Dense)             (None, 10)                1290      \n",
            "                                                                 \n",
            "=================================================================\n",
            "Total params: 693962 (2.65 MB)\n",
            "Trainable params: 693962 (2.65 MB)\n",
            "Non-trainable params: 0 (0.00 Byte)\n",
            "_________________________________________________________________\n"
          ]
        }
      ],
      "source": [
        "# Print the model summary\n",
        "model.summary()"
      ]
    },
    {
      "cell_type": "code",
      "execution_count": 7,
      "metadata": {
        "colab": {
          "base_uri": "https://localhost:8080/"
        },
        "id": "o923oALPkMaL",
        "outputId": "42e8957b-fd32-4094-d5da-898ab70b440a"
      },
      "outputs": [
        {
          "name": "stdout",
          "output_type": "stream",
          "text": [
            "WARNING:tensorflow:From c:\\Users\\porip\\anaconda3\\Lib\\site-packages\\keras\\src\\optimizers\\__init__.py:309: The name tf.train.Optimizer is deprecated. Please use tf.compat.v1.train.Optimizer instead.\n",
            "\n",
            "Epoch 1/10\n",
            "WARNING:tensorflow:From c:\\Users\\porip\\anaconda3\\Lib\\site-packages\\keras\\src\\utils\\tf_utils.py:492: The name tf.ragged.RaggedTensorValue is deprecated. Please use tf.compat.v1.ragged.RaggedTensorValue instead.\n",
            "\n",
            "WARNING:tensorflow:From c:\\Users\\porip\\anaconda3\\Lib\\site-packages\\keras\\src\\engine\\base_layer_utils.py:384: The name tf.executing_eagerly_outside_functions is deprecated. Please use tf.compat.v1.executing_eagerly_outside_functions instead.\n",
            "\n",
            "844/844 [==============================] - 4s 4ms/step - loss: 0.1902 - accuracy: 0.9441 - val_loss: 0.0766 - val_accuracy: 0.9790\n",
            "Epoch 2/10\n",
            "844/844 [==============================] - 4s 4ms/step - loss: 0.0627 - accuracy: 0.9816 - val_loss: 0.0545 - val_accuracy: 0.9850\n",
            "Epoch 3/10\n",
            "844/844 [==============================] - 4s 4ms/step - loss: 0.0431 - accuracy: 0.9869 - val_loss: 0.0523 - val_accuracy: 0.9878\n",
            "Epoch 4/10\n",
            "844/844 [==============================] - 4s 4ms/step - loss: 0.0298 - accuracy: 0.9905 - val_loss: 0.0513 - val_accuracy: 0.9870\n",
            "Epoch 5/10\n",
            "844/844 [==============================] - 4s 4ms/step - loss: 0.0208 - accuracy: 0.9935 - val_loss: 0.0495 - val_accuracy: 0.9875\n",
            "Epoch 6/10\n",
            "844/844 [==============================] - 4s 4ms/step - loss: 0.0154 - accuracy: 0.9953 - val_loss: 0.0561 - val_accuracy: 0.9872\n",
            "Epoch 7/10\n",
            "844/844 [==============================] - 4s 4ms/step - loss: 0.0113 - accuracy: 0.9964 - val_loss: 0.0592 - val_accuracy: 0.9883\n",
            "Epoch 8/10\n",
            "844/844 [==============================] - 4s 4ms/step - loss: 0.0085 - accuracy: 0.9970 - val_loss: 0.0489 - val_accuracy: 0.9883\n",
            "Epoch 9/10\n",
            "844/844 [==============================] - 4s 4ms/step - loss: 0.0066 - accuracy: 0.9979 - val_loss: 0.0599 - val_accuracy: 0.9865\n",
            "Epoch 10/10\n",
            "844/844 [==============================] - 4s 4ms/step - loss: 0.0066 - accuracy: 0.9980 - val_loss: 0.0754 - val_accuracy: 0.9872\n"
          ]
        },
        {
          "data": {
            "text/plain": [
              "<keras.src.callbacks.History at 0x2369d4cfa90>"
            ]
          },
          "execution_count": 7,
          "metadata": {},
          "output_type": "execute_result"
        }
      ],
      "source": [
        "# Compile and Train the model\n",
        "model.compile(loss='categorical_crossentropy', optimizer='adam', metrics=['accuracy'])\n",
        "model.fit(X_train, y_train, epochs=10, batch_size=64, validation_split=0.1)"
      ]
    },
    {
      "cell_type": "code",
      "execution_count": 8,
      "metadata": {
        "colab": {
          "base_uri": "https://localhost:8080/"
        },
        "id": "IzFppY4nmaXZ",
        "outputId": "3c338a9b-9f95-4ea8-9e39-7f42213359a4"
      },
      "outputs": [
        {
          "name": "stdout",
          "output_type": "stream",
          "text": [
            "313/313 [==============================] - 0s 1ms/step - loss: 0.0634 - accuracy: 0.9839\n",
            "Test Loss: 0.063393\n",
            "Test Accuracy: 0.983900\n"
          ]
        }
      ],
      "source": [
        "# Evaluate the model\n",
        "test_loss, test_accuracy = model.evaluate(X_test, y_test)\n",
        "print(f\"Test Loss: {test_loss:.6f}\")\n",
        "print(f\"Test Accuracy: {test_accuracy:.6f}\")"
      ]
    },
    {
      "attachments": {},
      "cell_type": "markdown",
      "metadata": {},
      "source": [
        "**Better Performance?**"
      ]
    },
    {
      "attachments": {},
      "cell_type": "markdown",
      "metadata": {},
      "source": [
        "We know that there are \"Hyper Parameters\" in CNN which have effect on model performance. We will try to find best hyper parameters for our model.  \n",
        "\n",
        "In Artificial Intelligence, I've learned that we can find best hyper parameters with Hybrid MPSO algorithm. I've implemented this algorithm in my previous project. I will attach my project files too.\n",
        "\n",
        "An Article about Hybrid MPSO: https://www.sciencedirect.com/science/article/abs/pii/S2210650221000249  \n",
        "Name: \"Hybrid MPSO-CNN: Multi-level Particle Swarm optimized hyperparameters of Convolutional Neural Network\""
      ]
    }
  ],
  "metadata": {
    "colab": {
      "provenance": []
    },
    "kernelspec": {
      "display_name": "Python 3",
      "name": "python3"
    },
    "language_info": {
      "codemirror_mode": {
        "name": "ipython",
        "version": 3
      },
      "file_extension": ".py",
      "mimetype": "text/x-python",
      "name": "python",
      "nbconvert_exporter": "python",
      "pygments_lexer": "ipython3",
      "version": "3.11.5"
    }
  },
  "nbformat": 4,
  "nbformat_minor": 0
}
